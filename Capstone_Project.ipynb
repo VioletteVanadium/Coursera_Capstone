{
 "cells": [
  {
   "cell_type": "markdown",
   "id": "a67b9246-8455-4d96-8d9e-cceebe96d6eb",
   "metadata": {},
   "source": [
    "This Notebook is for the Applied Data Science Capstone Project course on Coursera."
   ]
  },
  {
   "cell_type": "code",
   "execution_count": 1,
   "id": "d06b5483-6333-4aae-91ae-caf0ad950c90",
   "metadata": {},
   "outputs": [],
   "source": [
    "import pandas as pd\n",
    "import numpy as np"
   ]
  },
  {
   "cell_type": "code",
   "execution_count": 2,
   "id": "a45c86fa-816a-40c0-b98f-30c0d7a9688e",
   "metadata": {},
   "outputs": [
    {
     "name": "stdout",
     "output_type": "stream",
     "text": [
      "Hello Capstone Project Course!\n"
     ]
    }
   ],
   "source": [
    "print(\"Hello Capstone Project Course!\")"
   ]
  },
  {
   "cell_type": "code",
   "execution_count": null,
   "id": "c23e77ed-f7a2-4514-9a9e-3301ab404a7d",
   "metadata": {},
   "outputs": [],
   "source": []
  }
 ],
 "metadata": {
  "kernelspec": {
   "display_name": "Python 3",
   "language": "python",
   "name": "python3"
  },
  "language_info": {
   "codemirror_mode": {
    "name": "ipython",
    "version": 3
   },
   "file_extension": ".py",
   "mimetype": "text/x-python",
   "name": "python",
   "nbconvert_exporter": "python",
   "pygments_lexer": "ipython3",
   "version": "3.9.4"
  }
 },
 "nbformat": 4,
 "nbformat_minor": 5
}
